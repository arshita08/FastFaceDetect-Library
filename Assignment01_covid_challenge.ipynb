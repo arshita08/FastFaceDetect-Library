{
  "cells": [
    {
      "cell_type": "markdown",
      "id": "5f09fcd7",
      "metadata": {
        "id": "5f09fcd7"
      },
      "source": [
        "# COSC 426 / 526 - Assignment 01\n",
        "\n",
        "### Discussed: January 24, 2025\n",
        "### Due:  Jan 31, 2025 before 8AM ET\n",
        "\n",
        "---\n",
        "This notebook contains essential functions for your assignment. You will need to enhance and write additional code to complete the tasks. Please submit your completed work to the designated GitHub repository.\n",
        "\n",
        "This assignment is crafted to assess your proficiency in Python programming. You are encouraged to solve the problems using your current knowledge and skills, refraining from searching for solutions online. Be aware that future assignments in this course may present more complexity than this initial task.\n",
        "\n",
        "## Implementation Requirements\n",
        "\n",
        "For your project, please adhere to the following straightforward requirements:\n",
        "\n",
        "**Use Python 3:** Ensure that all your code is written in Python 3. We will be executing your code using a Python 3 interpreter. Code written in Python 2 is likely to encounter issues and may not run correctly.\n",
        "\n",
        "**Code Format:** Your code should be presented in one of two formats:\n",
        "\n",
        "* As a single Python script, saved with a .py file extension.\n",
        "* As a Jupyter Notebook.\n",
        "\n",
        "These requirements are essential to ensure that your code is compatible and can be executed smoothly in our environment.\n",
        "\n",
        "## Dataset Information\n",
        "\n",
        "For this assignment, you will be working with a dataset available from [this Kaggle page](https://www.kaggle.com/yamqwe/omicron-covid19-variant-daily-cases?select=covid-variants.csv). Additionally, a copy of this dataset is located in the same directory as this Jupyter notebook.\n",
        "\n",
        "The dataset provides information on the processing of COVID-19 sequence data by different countries over a period of time. It is formatted as a CSV (Comma-Separated Values) file, containing the following six key columns:\n",
        "\n",
        "1. `location`: This column indicates the specific country to which the data pertains.\n",
        "2. `date`: This column shows the date on which the data was recorded.\n",
        "3. `variant`: This column identifies the specific COVID-19 variant related to the data entry.\n",
        "4. `num_sequences`: This column reflects the count of sequences that have been **processed** for the respective country, variant, and date.\n",
        "5. `num_sequences_total`: This column indicates the total count of sequences that are available for the specified country, variant, and date.\n",
        "6. `perc_sequences`: This column indicates the total count of sequences that are available for the specified country, variant, and date.\n",
        "\n",
        "Each row in the dataset corresponds to the record of sequences processed for a particular COVID-19 variant in a specific country on a given day."
      ]
    },
    {
      "cell_type": "code",
      "execution_count": 1,
      "id": "c0ba54e2",
      "metadata": {
        "id": "c0ba54e2"
      },
      "outputs": [],
      "source": [
        "## Import any package you may need here below (Suggestion: consider pandas)\n",
        "import pandas as pd"
      ]
    },
    {
      "cell_type": "code",
      "execution_count": 7,
      "id": "f30c8202",
      "metadata": {
        "colab": {
          "base_uri": "https://localhost:8080/",
          "height": 206
        },
        "id": "f30c8202",
        "outputId": "dcfdaa3c-e8ba-4d8e-c3df-5c8d7ea5c445"
      },
      "outputs": [
        {
          "output_type": "execute_result",
          "data": {
            "text/plain": [
              "  location        date    variant  num_sequences  perc_sequences  \\\n",
              "0   Angola  2020-07-06      Alpha              0             0.0   \n",
              "1   Angola  2020-07-06  B.1.1.277              0             0.0   \n",
              "2   Angola  2020-07-06  B.1.1.302              0             0.0   \n",
              "3   Angola  2020-07-06  B.1.1.519              0             0.0   \n",
              "4   Angola  2020-07-06    B.1.160              0             0.0   \n",
              "\n",
              "   num_sequences_total  \n",
              "0                    3  \n",
              "1                    3  \n",
              "2                    3  \n",
              "3                    3  \n",
              "4                    3  "
            ],
            "text/html": [
              "\n",
              "  <div id=\"df-5989cd31-a7f8-4f4b-b220-b961aefc5347\" class=\"colab-df-container\">\n",
              "    <div>\n",
              "<style scoped>\n",
              "    .dataframe tbody tr th:only-of-type {\n",
              "        vertical-align: middle;\n",
              "    }\n",
              "\n",
              "    .dataframe tbody tr th {\n",
              "        vertical-align: top;\n",
              "    }\n",
              "\n",
              "    .dataframe thead th {\n",
              "        text-align: right;\n",
              "    }\n",
              "</style>\n",
              "<table border=\"1\" class=\"dataframe\">\n",
              "  <thead>\n",
              "    <tr style=\"text-align: right;\">\n",
              "      <th></th>\n",
              "      <th>location</th>\n",
              "      <th>date</th>\n",
              "      <th>variant</th>\n",
              "      <th>num_sequences</th>\n",
              "      <th>perc_sequences</th>\n",
              "      <th>num_sequences_total</th>\n",
              "    </tr>\n",
              "  </thead>\n",
              "  <tbody>\n",
              "    <tr>\n",
              "      <th>0</th>\n",
              "      <td>Angola</td>\n",
              "      <td>2020-07-06</td>\n",
              "      <td>Alpha</td>\n",
              "      <td>0</td>\n",
              "      <td>0.0</td>\n",
              "      <td>3</td>\n",
              "    </tr>\n",
              "    <tr>\n",
              "      <th>1</th>\n",
              "      <td>Angola</td>\n",
              "      <td>2020-07-06</td>\n",
              "      <td>B.1.1.277</td>\n",
              "      <td>0</td>\n",
              "      <td>0.0</td>\n",
              "      <td>3</td>\n",
              "    </tr>\n",
              "    <tr>\n",
              "      <th>2</th>\n",
              "      <td>Angola</td>\n",
              "      <td>2020-07-06</td>\n",
              "      <td>B.1.1.302</td>\n",
              "      <td>0</td>\n",
              "      <td>0.0</td>\n",
              "      <td>3</td>\n",
              "    </tr>\n",
              "    <tr>\n",
              "      <th>3</th>\n",
              "      <td>Angola</td>\n",
              "      <td>2020-07-06</td>\n",
              "      <td>B.1.1.519</td>\n",
              "      <td>0</td>\n",
              "      <td>0.0</td>\n",
              "      <td>3</td>\n",
              "    </tr>\n",
              "    <tr>\n",
              "      <th>4</th>\n",
              "      <td>Angola</td>\n",
              "      <td>2020-07-06</td>\n",
              "      <td>B.1.160</td>\n",
              "      <td>0</td>\n",
              "      <td>0.0</td>\n",
              "      <td>3</td>\n",
              "    </tr>\n",
              "  </tbody>\n",
              "</table>\n",
              "</div>\n",
              "    <div class=\"colab-df-buttons\">\n",
              "\n",
              "  <div class=\"colab-df-container\">\n",
              "    <button class=\"colab-df-convert\" onclick=\"convertToInteractive('df-5989cd31-a7f8-4f4b-b220-b961aefc5347')\"\n",
              "            title=\"Convert this dataframe to an interactive table.\"\n",
              "            style=\"display:none;\">\n",
              "\n",
              "  <svg xmlns=\"http://www.w3.org/2000/svg\" height=\"24px\" viewBox=\"0 -960 960 960\">\n",
              "    <path d=\"M120-120v-720h720v720H120Zm60-500h600v-160H180v160Zm220 220h160v-160H400v160Zm0 220h160v-160H400v160ZM180-400h160v-160H180v160Zm440 0h160v-160H620v160ZM180-180h160v-160H180v160Zm440 0h160v-160H620v160Z\"/>\n",
              "  </svg>\n",
              "    </button>\n",
              "\n",
              "  <style>\n",
              "    .colab-df-container {\n",
              "      display:flex;\n",
              "      gap: 12px;\n",
              "    }\n",
              "\n",
              "    .colab-df-convert {\n",
              "      background-color: #E8F0FE;\n",
              "      border: none;\n",
              "      border-radius: 50%;\n",
              "      cursor: pointer;\n",
              "      display: none;\n",
              "      fill: #1967D2;\n",
              "      height: 32px;\n",
              "      padding: 0 0 0 0;\n",
              "      width: 32px;\n",
              "    }\n",
              "\n",
              "    .colab-df-convert:hover {\n",
              "      background-color: #E2EBFA;\n",
              "      box-shadow: 0px 1px 2px rgba(60, 64, 67, 0.3), 0px 1px 3px 1px rgba(60, 64, 67, 0.15);\n",
              "      fill: #174EA6;\n",
              "    }\n",
              "\n",
              "    .colab-df-buttons div {\n",
              "      margin-bottom: 4px;\n",
              "    }\n",
              "\n",
              "    [theme=dark] .colab-df-convert {\n",
              "      background-color: #3B4455;\n",
              "      fill: #D2E3FC;\n",
              "    }\n",
              "\n",
              "    [theme=dark] .colab-df-convert:hover {\n",
              "      background-color: #434B5C;\n",
              "      box-shadow: 0px 1px 3px 1px rgba(0, 0, 0, 0.15);\n",
              "      filter: drop-shadow(0px 1px 2px rgba(0, 0, 0, 0.3));\n",
              "      fill: #FFFFFF;\n",
              "    }\n",
              "  </style>\n",
              "\n",
              "    <script>\n",
              "      const buttonEl =\n",
              "        document.querySelector('#df-5989cd31-a7f8-4f4b-b220-b961aefc5347 button.colab-df-convert');\n",
              "      buttonEl.style.display =\n",
              "        google.colab.kernel.accessAllowed ? 'block' : 'none';\n",
              "\n",
              "      async function convertToInteractive(key) {\n",
              "        const element = document.querySelector('#df-5989cd31-a7f8-4f4b-b220-b961aefc5347');\n",
              "        const dataTable =\n",
              "          await google.colab.kernel.invokeFunction('convertToInteractive',\n",
              "                                                    [key], {});\n",
              "        if (!dataTable) return;\n",
              "\n",
              "        const docLinkHtml = 'Like what you see? Visit the ' +\n",
              "          '<a target=\"_blank\" href=https://colab.research.google.com/notebooks/data_table.ipynb>data table notebook</a>'\n",
              "          + ' to learn more about interactive tables.';\n",
              "        element.innerHTML = '';\n",
              "        dataTable['output_type'] = 'display_data';\n",
              "        await google.colab.output.renderOutput(dataTable, element);\n",
              "        const docLink = document.createElement('div');\n",
              "        docLink.innerHTML = docLinkHtml;\n",
              "        element.appendChild(docLink);\n",
              "      }\n",
              "    </script>\n",
              "  </div>\n",
              "\n",
              "\n",
              "<div id=\"df-473db7a0-8ee1-4bc0-91ba-abc414b865c4\">\n",
              "  <button class=\"colab-df-quickchart\" onclick=\"quickchart('df-473db7a0-8ee1-4bc0-91ba-abc414b865c4')\"\n",
              "            title=\"Suggest charts\"\n",
              "            style=\"display:none;\">\n",
              "\n",
              "<svg xmlns=\"http://www.w3.org/2000/svg\" height=\"24px\"viewBox=\"0 0 24 24\"\n",
              "     width=\"24px\">\n",
              "    <g>\n",
              "        <path d=\"M19 3H5c-1.1 0-2 .9-2 2v14c0 1.1.9 2 2 2h14c1.1 0 2-.9 2-2V5c0-1.1-.9-2-2-2zM9 17H7v-7h2v7zm4 0h-2V7h2v10zm4 0h-2v-4h2v4z\"/>\n",
              "    </g>\n",
              "</svg>\n",
              "  </button>\n",
              "\n",
              "<style>\n",
              "  .colab-df-quickchart {\n",
              "      --bg-color: #E8F0FE;\n",
              "      --fill-color: #1967D2;\n",
              "      --hover-bg-color: #E2EBFA;\n",
              "      --hover-fill-color: #174EA6;\n",
              "      --disabled-fill-color: #AAA;\n",
              "      --disabled-bg-color: #DDD;\n",
              "  }\n",
              "\n",
              "  [theme=dark] .colab-df-quickchart {\n",
              "      --bg-color: #3B4455;\n",
              "      --fill-color: #D2E3FC;\n",
              "      --hover-bg-color: #434B5C;\n",
              "      --hover-fill-color: #FFFFFF;\n",
              "      --disabled-bg-color: #3B4455;\n",
              "      --disabled-fill-color: #666;\n",
              "  }\n",
              "\n",
              "  .colab-df-quickchart {\n",
              "    background-color: var(--bg-color);\n",
              "    border: none;\n",
              "    border-radius: 50%;\n",
              "    cursor: pointer;\n",
              "    display: none;\n",
              "    fill: var(--fill-color);\n",
              "    height: 32px;\n",
              "    padding: 0;\n",
              "    width: 32px;\n",
              "  }\n",
              "\n",
              "  .colab-df-quickchart:hover {\n",
              "    background-color: var(--hover-bg-color);\n",
              "    box-shadow: 0 1px 2px rgba(60, 64, 67, 0.3), 0 1px 3px 1px rgba(60, 64, 67, 0.15);\n",
              "    fill: var(--button-hover-fill-color);\n",
              "  }\n",
              "\n",
              "  .colab-df-quickchart-complete:disabled,\n",
              "  .colab-df-quickchart-complete:disabled:hover {\n",
              "    background-color: var(--disabled-bg-color);\n",
              "    fill: var(--disabled-fill-color);\n",
              "    box-shadow: none;\n",
              "  }\n",
              "\n",
              "  .colab-df-spinner {\n",
              "    border: 2px solid var(--fill-color);\n",
              "    border-color: transparent;\n",
              "    border-bottom-color: var(--fill-color);\n",
              "    animation:\n",
              "      spin 1s steps(1) infinite;\n",
              "  }\n",
              "\n",
              "  @keyframes spin {\n",
              "    0% {\n",
              "      border-color: transparent;\n",
              "      border-bottom-color: var(--fill-color);\n",
              "      border-left-color: var(--fill-color);\n",
              "    }\n",
              "    20% {\n",
              "      border-color: transparent;\n",
              "      border-left-color: var(--fill-color);\n",
              "      border-top-color: var(--fill-color);\n",
              "    }\n",
              "    30% {\n",
              "      border-color: transparent;\n",
              "      border-left-color: var(--fill-color);\n",
              "      border-top-color: var(--fill-color);\n",
              "      border-right-color: var(--fill-color);\n",
              "    }\n",
              "    40% {\n",
              "      border-color: transparent;\n",
              "      border-right-color: var(--fill-color);\n",
              "      border-top-color: var(--fill-color);\n",
              "    }\n",
              "    60% {\n",
              "      border-color: transparent;\n",
              "      border-right-color: var(--fill-color);\n",
              "    }\n",
              "    80% {\n",
              "      border-color: transparent;\n",
              "      border-right-color: var(--fill-color);\n",
              "      border-bottom-color: var(--fill-color);\n",
              "    }\n",
              "    90% {\n",
              "      border-color: transparent;\n",
              "      border-bottom-color: var(--fill-color);\n",
              "    }\n",
              "  }\n",
              "</style>\n",
              "\n",
              "  <script>\n",
              "    async function quickchart(key) {\n",
              "      const quickchartButtonEl =\n",
              "        document.querySelector('#' + key + ' button');\n",
              "      quickchartButtonEl.disabled = true;  // To prevent multiple clicks.\n",
              "      quickchartButtonEl.classList.add('colab-df-spinner');\n",
              "      try {\n",
              "        const charts = await google.colab.kernel.invokeFunction(\n",
              "            'suggestCharts', [key], {});\n",
              "      } catch (error) {\n",
              "        console.error('Error during call to suggestCharts:', error);\n",
              "      }\n",
              "      quickchartButtonEl.classList.remove('colab-df-spinner');\n",
              "      quickchartButtonEl.classList.add('colab-df-quickchart-complete');\n",
              "    }\n",
              "    (() => {\n",
              "      let quickchartButtonEl =\n",
              "        document.querySelector('#df-473db7a0-8ee1-4bc0-91ba-abc414b865c4 button');\n",
              "      quickchartButtonEl.style.display =\n",
              "        google.colab.kernel.accessAllowed ? 'block' : 'none';\n",
              "    })();\n",
              "  </script>\n",
              "</div>\n",
              "\n",
              "    </div>\n",
              "  </div>\n"
            ],
            "application/vnd.google.colaboratory.intrinsic+json": {
              "type": "dataframe",
              "variable_name": "df"
            }
          },
          "metadata": {},
          "execution_count": 7
        }
      ],
      "source": [
        "## Add here anything else you may need (Suggestion: import your data)\n",
        "df = pd.read_csv(\"/content/covid-variants.csv\")\n",
        "df.head()"
      ]
    },
    {
      "cell_type": "markdown",
      "id": "760c5a8f",
      "metadata": {
        "tags": [],
        "id": "760c5a8f"
      },
      "source": [
        "## Problem 1. Identifying Less Common COVID-19 Variants\n",
        "\n",
        "In the United States, the three primary COVID-19 variants we have encountered are:\n",
        "1. Alpha\n",
        "2. Delta\n",
        "3. Omicron\n",
        "\n",
        "Besides these, the World Health Organization (WHO) has recognized several other variants of the virus.\n",
        "\n",
        "Your task is to identify these additional variants present in the dataset. To do this, you should:\n",
        "\n",
        "Examine the dataset, specifically focusing on the contents of the \"variants\" column.\n",
        "\n",
        "Identify and compile a list of variant names that are different from the main variants (Alpha, Delta, Omicron) recognized in the US.\n",
        "\n",
        "Ensure that you exclude two specific categories labeled as \"non_who\" and \"others\" in the \"variants\" column, as these are not individual variants but rather collective categories.\n",
        "\n",
        "Organize the names of these less common variants in an alphanumeric order.\n",
        "\n",
        "Store this organized list of variant names in a Python list.\n",
        "\n",
        "Assign this list to a variable named uncommon_variants.\n",
        "\n",
        "**Remember** this list should only include the names of the variants that are not as commonly known or discussed in the US context but are acknowledged by the WHO.\n"
      ]
    },
    {
      "cell_type": "code",
      "execution_count": 8,
      "id": "c4f869b7",
      "metadata": {
        "colab": {
          "base_uri": "https://localhost:8080/"
        },
        "id": "c4f869b7",
        "outputId": "2261d33b-9655-4d87-cbd7-e248f0a4d824"
      },
      "outputs": [
        {
          "output_type": "execute_result",
          "data": {
            "text/plain": [
              "array(['B.1.1.277', 'B.1.1.302', 'B.1.1.519', 'B.1.160', 'B.1.177',\n",
              "       'B.1.221', 'B.1.258', 'B.1.367', 'B.1.620', 'Beta', 'Epsilon',\n",
              "       'Eta', 'Gamma', 'Iota', 'Kappa', 'Lambda', 'Mu', 'S:677H.Robin1',\n",
              "       'S:677P.Pelican'], dtype=object)"
            ]
          },
          "metadata": {},
          "execution_count": 8
        }
      ],
      "source": [
        "## Write here your code\n",
        "uncommon_variants = df.loc[~df[\"variant\"].isin([\"Alpha\", \"Delta\", \"Omicron\", \"non_who\", \"others\"]), \"variant\"]\n",
        "uncommon_variants = uncommon_variants.sort_values(key=lambda x: x.astype(str)).unique()\n",
        "uncommon_variants"
      ]
    },
    {
      "cell_type": "markdown",
      "id": "cc0eeaf6-5dcf-4df7-b584-1e1075d749bf",
      "metadata": {
        "id": "cc0eeaf6-5dcf-4df7-b584-1e1075d749bf"
      },
      "source": [
        "**Solution:**\n",
        "\n",
        "['B.1.1.277', 'B.1.1.302', 'B.1.1.519', 'B.1.160', 'B.1.177', 'B.1.221', 'B.1.258', 'B.1.367', 'B.1.620', 'Beta', 'Epsilon', 'Eta', 'Gamma', 'Iota', 'Kappa', 'Lambda', 'Mu', 'S:677H.Robin1', 'S:677P.Pelican']"
      ]
    },
    {
      "cell_type": "markdown",
      "id": "5cbdeb65",
      "metadata": {
        "tags": [],
        "id": "5cbdeb65"
      },
      "source": [
        "## Problem 2. Identifying the Most Processed COVID-19 Variant\n",
        "\n",
        "Your objective is to find out which COVID-19 variant has undergone the most processing, as indicated by the number of sequences processed.\n",
        "\n",
        "To complete this task, follow these steps:\n",
        "\n",
        "Examine the dataset to compare the number of processed sequences for each COVID-19 variant.\n",
        "\n",
        "Identify the variant that has the highest number of sequences processed.\n",
        "\n",
        "Store the name of this variant in a variable named variant_most_proc.\n",
        "\n",
        "The variable `variant_most_proc` should ultimately contain the name of the COVID-19 variant with the greatest number of processed sequences according to the dataset."
      ]
    },
    {
      "cell_type": "code",
      "execution_count": 9,
      "id": "e9efb902",
      "metadata": {
        "colab": {
          "base_uri": "https://localhost:8080/"
        },
        "id": "e9efb902",
        "outputId": "b5181bd9-9578-4b55-b4e3-eaa2817f27ea"
      },
      "outputs": [
        {
          "output_type": "stream",
          "name": "stdout",
          "text": [
            "Delta\n"
          ]
        }
      ],
      "source": [
        "## Write here your code\n",
        "idx = df[[\"num_sequences\"]].idxmax()\n",
        "\n",
        "variant_most_proc = df.iloc[idx]['variant'].values[0]\n",
        "print(variant_most_proc)"
      ]
    },
    {
      "cell_type": "markdown",
      "id": "6f6cda2a-30f8-4b3c-bfbf-78c21d33ac1c",
      "metadata": {
        "id": "6f6cda2a-30f8-4b3c-bfbf-78c21d33ac1c"
      },
      "source": [
        "**Solution:**\n",
        "\n",
        "Delta"
      ]
    },
    {
      "cell_type": "markdown",
      "id": "663db8ac",
      "metadata": {
        "id": "663db8ac"
      },
      "source": [
        "## Problem 3. Identifying the Top Country in Processing Sequences Across All COVID-19 Variants\n",
        "\n",
        "Your task is to find out which country has been the most effective in processing sequences for all COVID-19 variants, including the general categories labeled as \"catch all.\"\n",
        "\n",
        "To achieve this:\n",
        "\n",
        "Analyze the dataset to evaluate the sequence processing performance of each country for all COVID-19 variants.\n",
        "\n",
        "Identify the country that has the highest efficiency or success rate in processing sequences across all these variants.\n",
        "\n",
        "Assign the name of this country to a variable named best_proc_country.\n",
        "\n",
        "The `best_proc_country` variable should ultimately hold the name of the country that stands out as the best in processing COVID-19 sequences for all variants, inclusive of the \"catch all\" categories."
      ]
    },
    {
      "cell_type": "code",
      "execution_count": 10,
      "id": "75c31b41",
      "metadata": {
        "colab": {
          "base_uri": "https://localhost:8080/"
        },
        "id": "75c31b41",
        "outputId": "67155089-30ba-4196-c917-f262b35e6625"
      },
      "outputs": [
        {
          "output_type": "stream",
          "name": "stdout",
          "text": [
            "Cyprus\n"
          ]
        }
      ],
      "source": [
        "## Write here your code\n",
        "\n",
        "country_efficiency = (\n",
        "    df.groupby(\"location\")[[\"num_sequences\", \"num_sequences_total\"]]\n",
        "    .sum()\n",
        "    .eval(\"efficiency = (num_sequences / num_sequences_total) * 100\")\n",
        ")\n",
        "best_proc_country = country_efficiency[\"efficiency\"].idxmax()\n",
        "\n",
        "print(best_proc_country)"
      ]
    },
    {
      "cell_type": "markdown",
      "id": "3394f304-5e42-4b96-9969-603f2ffdb4e0",
      "metadata": {
        "id": "3394f304-5e42-4b96-9969-603f2ffdb4e0"
      },
      "source": [
        "**Solution:**\n",
        "\n",
        "Cyprus"
      ]
    },
    {
      "cell_type": "markdown",
      "id": "11d1d3a0",
      "metadata": {
        "id": "11d1d3a0"
      },
      "source": [
        "## Problem 4a. Identifying the Leading Country in Processing Alpha, Delta, and Omicron Sequences\n",
        "\n",
        "Your objective in this task is to ascertain which country has demonstrated the highest proficiency in processing sequences specifically for the Alpha, Delta, and Omicron COVID-19 variants.\n",
        "\n",
        "Follow these steps:\n",
        "\n",
        "Review the dataset to assess how different countries have processed sequences for the Alpha, Delta, and Omicron variants.\n",
        "\n",
        "Identify which country has shown the best overall performance in processing sequences for these three specific variants.\n",
        "\n",
        "Record the name of this country in a variable named best_proc_country_ado.\n",
        "\n",
        "Ultimately, `best_proc_country_ado`should contain the name of the country that stands out for its efficiency in handling sequences of the Alpha, Delta, and Omicron variants."
      ]
    },
    {
      "cell_type": "code",
      "execution_count": 12,
      "id": "fcafdd2e",
      "metadata": {
        "colab": {
          "base_uri": "https://localhost:8080/"
        },
        "id": "fcafdd2e",
        "outputId": "1f5c268b-1f5a-42ea-f375-29dc6109d390"
      },
      "outputs": [
        {
          "output_type": "stream",
          "name": "stdout",
          "text": [
            "Vietnam\n"
          ]
        }
      ],
      "source": [
        "## Write here your code\n",
        "filtered_df = df[df[\"variant\"].isin([\"Alpha\", \"Delta\", \"Omicron\"])]\n",
        "\n",
        "country_efficiency = (\n",
        "    filtered_df.groupby(\"location\")[[\"num_sequences\", \"num_sequences_total\"]]\n",
        "    .sum()\n",
        "    .eval(\"efficiency = (num_sequences / num_sequences_total) * 100\")\n",
        ")\n",
        "\n",
        "best_proc_country_ado = country_efficiency[\"efficiency\"].idxmax()\n",
        "print(best_proc_country_ado)"
      ]
    },
    {
      "cell_type": "markdown",
      "id": "50352af6-52fb-4ac7-b6e3-24125fa58015",
      "metadata": {
        "id": "50352af6-52fb-4ac7-b6e3-24125fa58015"
      },
      "source": [
        "**Solution:**\n",
        "\n",
        "Vietnam"
      ]
    },
    {
      "cell_type": "markdown",
      "id": "9ccb8782",
      "metadata": {
        "tags": [],
        "id": "9ccb8782"
      },
      "source": [
        "## Problem 4b. Assessing the U.S. Ranking in Processing Alpha, Delta, and Omicron Sequences\n",
        "\n",
        "In this task, you are required to find out the U.S.'s ranking in terms of its efficiency in processing sequences for the Alpha, Delta, and Omicron COVID-19 variants.\n",
        "\n",
        "To complete this task:\n",
        "\n",
        "Analyze the dataset to compare the U.S.'s performance in processing sequences for these three variants against other countries.\n",
        "\n",
        "Determine the U.S.'s position in this ranking, with the understanding that the top-performing country is ranked 1.\n",
        "\n",
        "Store the U.S.'s ranking as an integer in a variable named `us_ranking`.\n",
        "\n",
        "**Important Notes:**\n",
        "\n",
        "Keep in mind that while the highest-ranking country is numbered 1, Python indexing begins at 0.\n",
        "\n",
        "Remember, in Jupyter notebooks, variables from previously executed code cells remain accessible in subsequent cells. This means you can utilize data or results from problem 4a without needing to duplicate code.\n"
      ]
    },
    {
      "cell_type": "code",
      "execution_count": 15,
      "id": "038e81b5",
      "metadata": {
        "colab": {
          "base_uri": "https://localhost:8080/"
        },
        "id": "038e81b5",
        "outputId": "7b589733-6cde-4b5e-e677-f816cae51906"
      },
      "outputs": [
        {
          "output_type": "stream",
          "name": "stdout",
          "text": [
            "57\n"
          ]
        }
      ],
      "source": [
        "## Write here your code\n",
        "filtered_df = df[df[\"variant\"].isin([\"Alpha\", \"Delta\", \"Omicron\"])]\n",
        "my_df = (\n",
        "    filtered_df.groupby(\"location\")[[\"num_sequences\", \"num_sequences_total\"]]\n",
        "    .sum()\n",
        "    .assign(Efficiency=lambda x: (x[\"num_sequences\"] / x[\"num_sequences_total\"]) * 100)\n",
        "    .reset_index()\n",
        "    .rename(columns={\"location\": \"Country\"})\n",
        ")\n",
        "\n",
        "my_df = my_df.sort_values(\"Efficiency\", ascending=False).reset_index(drop=True)\n",
        "us_ranking = my_df.index[my_df[\"Country\"] == \"United States\"].tolist()[0] + 1\n",
        "print(us_ranking)"
      ]
    },
    {
      "cell_type": "markdown",
      "id": "35d84ccf-e84f-458f-82ee-66f80331e1b2",
      "metadata": {
        "id": "35d84ccf-e84f-458f-82ee-66f80331e1b2"
      },
      "source": [
        "**Solution:**\n",
        "    \n",
        "57"
      ]
    },
    {
      "cell_type": "markdown",
      "id": "283e46d3",
      "metadata": {
        "id": "283e46d3"
      },
      "source": [
        "## Problem 5. Calculating Processed Omicron Sequences by Country for a Specific Date\n",
        "\n",
        "This task involves determining and sorting the total number of sequences processed for the Omicron variant by each country on December 27, 2021.\n",
        "\n",
        "To achieve this:\n",
        "\n",
        "Analyze the dataset to calculate the total number of processed sequences for the Omicron variant in each country specifically for the date December 27, 2021.\n",
        "\n",
        "Arrange the results in descending order, starting with the country that processed the highest number of sequences down to the smallest.\n",
        "\n",
        "Format the output as a list of tuples. Each tuple should contain two elements: the country's name and the corresponding number of processed sequences.\n",
        "\n",
        "Store this sorted list of tuples in a variable named total_omicron_2021.\n",
        "\n",
        "The `total_omicron_2021` variable will thus represent a structured list, providing a clear overview of each country's contribution to processing Omicron sequences on the specified date.\n"
      ]
    },
    {
      "cell_type": "code",
      "execution_count": 16,
      "id": "4b1a9e3b-e779-43ca-a1cd-1f7416e58cdd",
      "metadata": {
        "colab": {
          "base_uri": "https://localhost:8080/"
        },
        "id": "4b1a9e3b-e779-43ca-a1cd-1f7416e58cdd",
        "outputId": "c3b94fc4-e041-482f-f7d2-81f8e8a11558"
      },
      "outputs": [
        {
          "output_type": "stream",
          "name": "stdout",
          "text": [
            "[('United Kingdom', 52456), ('United States', 24681), ('Denmark', 3331), ('Germany', 1701), ('Israel', 1578), ('Australia', 1319), ('Switzerland', 514), ('France', 509), ('Italy', 486), ('Belgium', 464), ('Spain', 461), ('Sweden', 434), ('Chile', 260), ('Netherlands', 254), ('Singapore', 249), ('Mexico', 240), ('Turkey', 202), ('India', 174), ('Brazil', 147), ('Botswana', 142), ('Indonesia', 128), ('Japan', 118), ('Portugal', 118), ('Argentina', 80), ('New Zealand', 63), ('South Africa', 61), ('Lithuania', 50), ('Czechia', 49), ('Georgia', 46), ('Russia', 45), ('Colombia', 37), ('Sri Lanka', 37), ('Hong Kong', 35), ('Malta', 34), ('Poland', 28), ('Ecuador', 26), ('Canada', 25), ('Jordan', 22), ('Malawi', 21), ('Cambodia', 18), ('Norway', 17), ('Morocco', 15), ('Senegal', 15), ('Costa Rica', 14), ('Pakistan', 11), ('Nigeria', 10), ('Peru', 10), ('Brunei', 8), ('Slovakia', 8), ('Trinidad and Tobago', 8), ('Maldives', 7), ('Zambia', 7), ('Thailand', 6), ('Malaysia', 5), ('Bangladesh', 4), ('Romania', 3), ('Iran', 1), ('Oman', 1), ('Ukraine', 1), ('Vietnam', 1), ('Moldova', 0), ('Monaco', 0), ('Nepal', 0), ('South Korea', 0)]\n"
          ]
        }
      ],
      "source": [
        "## Write here your code\n",
        "NumSeq_sorted = df[(df[\"variant\"] == \"Omicron\") & (df[\"date\"] == \"2021-12-27\")] \\\n",
        "    .sort_values(by=[\"num_sequences\", \"location\"], ascending=[False, True])\n",
        "\n",
        "total_omicron_2021 = list(NumSeq_sorted[[\"location\", \"num_sequences\"]].itertuples(index=False, name=None))\n",
        "print(total_omicron_2021)"
      ]
    },
    {
      "cell_type": "markdown",
      "id": "49f95c2b-db3a-4ece-a4bc-e325e99a5cbe",
      "metadata": {
        "id": "49f95c2b-db3a-4ece-a4bc-e325e99a5cbe"
      },
      "source": [
        "**Solution:**\n",
        "\n",
        "[('United Kingdom', 52456), ('United States', 24681), ('Denmark', 3331), ('Germany', 1701), ('Israel', 1578), ('Australia', 1319), ('Switzerland', 514), ('France', 509), ('Italy', 486), ('Belgium', 464), ('Spain', 461), ('Sweden', 434), ('Chile', 260), ('Netherlands', 254), ('Singapore', 249), ('Mexico', 240), ('Turkey', 202), ('India', 174), ('Brazil', 147), ('Botswana', 142), ('Indonesia', 128), ('Japan', 118), ('Portugal', 118), ('Argentina', 80), ('New Zealand', 63), ('South Africa', 61), ('Lithuania', 50), ('Czechia', 49), ('Georgia', 46), ('Russia', 45), ('Colombia', 37), ('Sri Lanka', 37), ('Hong Kong', 35), ('Malta', 34), ('Poland', 28), ('Ecuador', 26), ('Canada', 25), ('Jordan', 22), ('Malawi', 21), ('Cambodia', 18), ('Norway', 17), ('Morocco', 15), ('Senegal', 15), ('Costa Rica', 14), ('Pakistan', 11), ('Nigeria', 10), ('Peru', 10), ('Brunei', 8), ('Slovakia', 8), ('Trinidad and Tobago', 8), ('Maldives', 7), ('Zambia', 7), ('Thailand', 6), ('Malaysia', 5), ('Bangladesh', 4), ('Romania', 3), ('Iran', 1), ('Oman', 1), ('Ukraine', 1), ('Vietnam', 1), ('Moldova', 0), ('Monaco', 0), ('Nepal', 0), ('South Korea', 0)]"
      ]
    },
    {
      "cell_type": "markdown",
      "id": "c2e3afa3",
      "metadata": {
        "id": "c2e3afa3"
      },
      "source": [
        "## Problem 6. Calculating U.S. Processing Percentages for Key COVID-19 Variants\n",
        "\n",
        "Your task is to find out the percentage of sequences that have been processed in the United States (U.S.) for three specific COVID-19 variants: Alpha, Delta, and Omicron.\n",
        "\n",
        "To complete this:\n",
        "\n",
        "Examine the dataset to determine the percentage of sequences processed for each of the Alpha, Delta, and Omicron variants in the U.S.\n",
        "\n",
        "Compile these percentages into a dictionary. In this dictionary:\n",
        "\n",
        "The keys should be the names of the variants (\"Alpha\", \"Delta\", and \"Omicron\").\n",
        "\n",
        "The values should be the corresponding percentages of sequences processed for each variant.\n",
        "\n",
        "Assign this dictionary to a variable named proc_seq_us.\n",
        "\n",
        "Ultimately, the proc_seq_us variable will hold a structured dictionary, providing a clear representation of the U.S.'s processing percentages for each of these significant COVID-19 variants.\n",
        "\n",
        "\n",
        "\n",
        "6. Find Percentage of Sequences Processed in the US\n",
        "\n",
        "Determine the percentage of processed sequences for the Alpha, Delta, and Omicron variants in the US.\n",
        "\n",
        "Store the result as a dictionary where keys are variant names and values are percentages.\n",
        "\n",
        "Save the result in a variable called `proc_seq_us`."
      ]
    },
    {
      "cell_type": "code",
      "execution_count": 17,
      "id": "53126a9c",
      "metadata": {
        "colab": {
          "base_uri": "https://localhost:8080/"
        },
        "id": "53126a9c",
        "outputId": "8b1c31c2-242c-4c69-90f3-3b793dcf235f"
      },
      "outputs": [
        {
          "output_type": "stream",
          "name": "stdout",
          "text": [
            "{'Alpha': 11.520951617373877, 'Delta': 63.76796208057254, 'Omicron': 1.370817855027461}\n"
          ]
        }
      ],
      "source": [
        "## Write here your code\n",
        "\n",
        "US_ado = df[(df[\"location\"] == \"United States\") & df[\"variant\"].isin([\"Alpha\", \"Delta\", \"Omicron\"])]\n",
        "\n",
        "variant_sums = US_ado.groupby(\"variant\")[[\"num_sequences\", \"num_sequences_total\"]].sum()\n",
        "\n",
        "proc_seq_us = (variant_sums[\"num_sequences\"] / variant_sums[\"num_sequences_total\"] * 100).to_dict()\n",
        "\n",
        "print(proc_seq_us)"
      ]
    },
    {
      "cell_type": "markdown",
      "id": "29ab4161-4ff8-4474-9470-ab91ce7a6f63",
      "metadata": {
        "id": "29ab4161-4ff8-4474-9470-ab91ce7a6f63"
      },
      "source": [
        "**Solution:**\n",
        "\n",
        "{'Alpha': 11.520951617373877, 'Delta': 63.76796208057254, 'Omicron': 1.370817855027461}\n"
      ]
    },
    {
      "cell_type": "markdown",
      "id": "0891e8c8",
      "metadata": {
        "id": "0891e8c8"
      },
      "source": [
        "## Problem 7. Write the comprehensive README files\n",
        "\n",
        "**Note:** These directions are for a README file for your assignments. An extensive README file should be used for your project.\n",
        "\n",
        "***Write the comprehensive README files for Assginemnt 1***\n",
        "\n",
        "A comprehensive README file on GitHub is the primary information source for anyone exploring your repository. It is essential for clearly conveying your assignment's purpose, setup, and usage.\n",
        "\n",
        "Key elements of a comprehensive README for an assignment include:\n",
        "\n",
        "Assignment title: This should clearly state the name of your project.\n",
        "\n",
        "Assignment description: Provide a concise overview of what the project entails. This section should explain the project's usefulness and the problems it addresses.\n",
        "\n",
        "Installation instructions: Offer detailed steps for setting up the project. This includes any prerequisites, dependencies, and a step-by-step guide to operationalizing the project.\n",
        "\n",
        "Use: Give clear instructions on how to use the project. Enhance this section with practical examples, including code snippets, screenshots, or videos.\n",
        "\n",
        "Contact information: Detail how to contact you. This could be through email.\n",
        "\n",
        "Acknowledgments: Credit any individuals, organizations, or other entities contributing significantly to the assignment.\n",
        "\n",
        "**Add the README file to the GitHub repository with the solution of Problems 1-6.**"
      ]
    },
    {
      "cell_type": "markdown",
      "id": "bc57d9f1-067b-4ade-8823-006eae5e8cd2",
      "metadata": {
        "id": "bc57d9f1-067b-4ade-8823-006eae5e8cd2"
      },
      "source": [
        "# Live Chat: The History of Big Data\n",
        "\n",
        "In her [keynote speech](https://youtu.be/CNoi-XqwJnA) at Supercomputing 2013, Intel's Genevieve Bell illustrates that humanity has been managing big data for thousands of years. She emphasizes that adopting the appropriate perspective is crucial for solving many contemporary challenges related to big data. Watch the video here: Genevieve Bell Keynote - Supercomputing 2013.\n",
        "\n",
        "Provide a summary of the video in no more than 150 words. Additionally, list three key concepts or insights that you gained from watching this video.\n",
        "\n",
        "**Important Note:** Your responses to this question is as critical as your codes. Brief answers or responses limited to just a few words will be considered inadequate and will negatively impact the overall grading of your assignment.\n"
      ]
    },
    {
      "cell_type": "markdown",
      "id": "a38d6ca8-d398-47f9-9366-b84f735e099c",
      "metadata": {
        "id": "a38d6ca8-d398-47f9-9366-b84f735e099c"
      },
      "source": [
        "Write here your answer"
      ]
    }
  ],
  "metadata": {
    "kernelspec": {
      "display_name": "Python 3",
      "language": "python",
      "name": "python3"
    },
    "language_info": {
      "codemirror_mode": {
        "name": "ipython",
        "version": 3
      },
      "file_extension": ".py",
      "mimetype": "text/x-python",
      "name": "python",
      "nbconvert_exporter": "python",
      "pygments_lexer": "ipython3",
      "version": "3.8.13"
    },
    "colab": {
      "provenance": []
    }
  },
  "nbformat": 4,
  "nbformat_minor": 5
}